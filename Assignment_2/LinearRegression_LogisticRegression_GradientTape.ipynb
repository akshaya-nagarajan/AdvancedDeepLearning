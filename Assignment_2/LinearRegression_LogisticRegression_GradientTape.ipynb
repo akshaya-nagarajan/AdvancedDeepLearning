{
  "nbformat": 4,
  "nbformat_minor": 0,
  "metadata": {
    "colab": {
      "name": "LinearRegression-LogisticRegression-GradientTape.ipynb",
      "provenance": [],
      "collapsed_sections": [],
      "authorship_tag": "ABX9TyOFQwmvkxTXpUSm4xt/aWXz",
      "include_colab_link": true
    },
    "kernelspec": {
      "name": "python3",
      "display_name": "Python 3"
    },
    "accelerator": "TPU"
  },
  "cells": [
    {
      "cell_type": "markdown",
      "metadata": {
        "id": "view-in-github",
        "colab_type": "text"
      },
      "source": [
        "<a href=\"https://colab.research.google.com/github/akshaya-nagarajan/AdvancedDeepLearning/blob/master/Assignment_2/LinearRegression_LogisticRegression_GradientTape.ipynb\" target=\"_parent\"><img src=\"https://colab.research.google.com/assets/colab-badge.svg\" alt=\"Open In Colab\"/></a>"
      ]
    },
    {
      "cell_type": "markdown",
      "metadata": {
        "id": "XEDPQXPFfqdS",
        "colab_type": "text"
      },
      "source": [
        "# Linear Regression on artificaially generated dataset"
      ]
    },
    {
      "cell_type": "markdown",
      "metadata": {
        "id": "Cu5T6QL-bdcz",
        "colab_type": "text"
      },
      "source": [
        "## Import required Libraries"
      ]
    },
    {
      "cell_type": "code",
      "metadata": {
        "id": "8z87n3unNcRS",
        "colab_type": "code",
        "colab": {
          "base_uri": "https://localhost:8080/",
          "height": 34
        },
        "outputId": "5f021c17-00f1-4874-a71e-15f711e148aa"
      },
      "source": [
        "import tensorflow as tf\n",
        "print(tf.__version__)"
      ],
      "execution_count": null,
      "outputs": [
        {
          "output_type": "stream",
          "text": [
            "2.3.0\n"
          ],
          "name": "stdout"
        }
      ]
    },
    {
      "cell_type": "code",
      "metadata": {
        "id": "_RJnMW_t4vAN",
        "colab_type": "code",
        "colab": {}
      },
      "source": [
        "import numpy as np\n",
        "import random\n",
        "import matplotlib.pyplot as plt\n",
        "%matplotlib inline\n",
        "from tensorflow.keras.datasets import mnist\n",
        "from __future__ import absolute_import, division, print_function"
      ],
      "execution_count": null,
      "outputs": []
    },
    {
      "cell_type": "markdown",
      "metadata": {
        "id": "gIx8pP-Bb1Wb",
        "colab_type": "text"
      },
      "source": [
        "## Set Parameters"
      ]
    },
    {
      "cell_type": "code",
      "metadata": {
        "id": "jNf8z7Tm30Cu",
        "colab_type": "code",
        "colab": {}
      },
      "source": [
        "input_dim = 2\n",
        "output_dim = 1\n",
        "learning_rate = 0.01"
      ],
      "execution_count": null,
      "outputs": []
    },
    {
      "cell_type": "markdown",
      "metadata": {
        "id": "NI1BirjHb4uA",
        "colab_type": "text"
      },
      "source": [
        "## Weight and Bias"
      ]
    },
    {
      "cell_type": "code",
      "metadata": {
        "id": "3nls-34uKvks",
        "colab_type": "code",
        "colab": {}
      },
      "source": [
        "w = tf.Variable(tf.random.uniform(shape=(input_dim, output_dim)))\n",
        "b = tf.Variable(tf.zeros(shape=(output_dim,)))"
      ],
      "execution_count": null,
      "outputs": []
    },
    {
      "cell_type": "markdown",
      "metadata": {
        "id": "uZXSpmwncAKq",
        "colab_type": "text"
      },
      "source": [
        "## Predict Function"
      ]
    },
    {
      "cell_type": "code",
      "metadata": {
        "id": "wHQ2gwKx34Gh",
        "colab_type": "code",
        "colab": {}
      },
      "source": [
        "def compute_predictions(features):\n",
        "  return tf.matmul(features, w) + b"
      ],
      "execution_count": null,
      "outputs": []
    },
    {
      "cell_type": "markdown",
      "metadata": {
        "id": "pleeP6xlcCg8",
        "colab_type": "text"
      },
      "source": [
        "## Loss Function"
      ]
    },
    {
      "cell_type": "code",
      "metadata": {
        "id": "oqnPmjDK36Sc",
        "colab_type": "code",
        "colab": {}
      },
      "source": [
        "def compute_loss(labels, predictions):\n",
        "  return tf.reduce_mean(tf.square(labels - predictions))"
      ],
      "execution_count": null,
      "outputs": []
    },
    {
      "cell_type": "markdown",
      "metadata": {
        "id": "_X2hm-6ccFE7",
        "colab_type": "text"
      },
      "source": [
        "## Method for Training - Gradient Tape"
      ]
    },
    {
      "cell_type": "code",
      "metadata": {
        "id": "muTl_bqR38Dq",
        "colab_type": "code",
        "colab": {}
      },
      "source": [
        "def train_on_batch(x, y):\n",
        "  with tf.GradientTape() as tape:\n",
        "    predictions = compute_predictions(x)\n",
        "    loss = compute_loss(y, predictions)\n",
        "    # Note that `tape.gradient` works with a list as well (w, b).\n",
        "    dloss_dw, dloss_db = tape.gradient(loss, [w, b])\n",
        "  w.assign_sub(learning_rate * dloss_dw)\n",
        "  b.assign_sub(learning_rate * dloss_db)\n",
        "  return loss"
      ],
      "execution_count": null,
      "outputs": []
    },
    {
      "cell_type": "markdown",
      "metadata": {
        "id": "J1Exlmz2dk0A",
        "colab_type": "text"
      },
      "source": [
        "## Generate Data for performing linear classification"
      ]
    },
    {
      "cell_type": "code",
      "metadata": {
        "id": "EkNcDlkJ4CrX",
        "colab_type": "code",
        "colab": {
          "base_uri": "https://localhost:8080/",
          "height": 282
        },
        "outputId": "0d1bcaf5-e16c-45dc-ede1-24d7bcdc4ceb"
      },
      "source": [
        "num_samples = 10000\n",
        "negative_samples = np.random.multivariate_normal(mean=[0, 3], cov=[[1, 0.5],[0.5, 1]], size=num_samples)\n",
        "positive_samples = np.random.multivariate_normal(mean=[3, 0], cov=[[1, 0.5],[0.5, 1]], size=num_samples)\n",
        "features = np.vstack((negative_samples, positive_samples)).astype(np.float32)\n",
        "labels = np.vstack((np.zeros((num_samples, 1), dtype='float32'), np.ones((num_samples, 1), dtype='float32')))\n",
        "plt.scatter(features[:, 0], features[:, 1], c=labels[:, 0])"
      ],
      "execution_count": null,
      "outputs": [
        {
          "output_type": "execute_result",
          "data": {
            "text/plain": [
              "<matplotlib.collections.PathCollection at 0x7f9b20e5e7b8>"
            ]
          },
          "metadata": {
            "tags": []
          },
          "execution_count": 107
        },
        {
          "output_type": "display_data",
          "data": {
            "image/png": "[encoded data removed]",
            "text/plain": [
              "<Figure size 432x288 with 1 Axes>"
            ]
          },
          "metadata": {
            "tags": [],
            "needs_background": "light"
          }
        }
      ]
    },
    {
      "cell_type": "markdown",
      "metadata": {
        "id": "A0CjHb1idqD-",
        "colab_type": "text"
      },
      "source": [
        "## Get Labels and Features"
      ]
    },
    {
      "cell_type": "code",
      "metadata": {
        "id": "Hy-qdqI-4Ch5",
        "colab_type": "code",
        "colab": {}
      },
      "source": [
        "indices = np.random.permutation(len(features))\n",
        "features = features[indices]\n",
        "labels = labels[indices]"
      ],
      "execution_count": null,
      "outputs": []
    },
    {
      "cell_type": "markdown",
      "metadata": {
        "id": "P6e2wKZLdt1H",
        "colab_type": "text"
      },
      "source": [
        "## Train the model on the generated Dataset"
      ]
    },
    {
      "cell_type": "code",
      "metadata": {
        "id": "sBcH1U904QrR",
        "colab_type": "code",
        "colab": {
          "base_uri": "https://localhost:8080/",
          "height": 187
        },
        "outputId": "a489d5ad-19e0-4e85-c378-debd893b234a"
      },
      "source": [
        "dataset = tf.data.Dataset.from_tensor_slices((features, labels))\n",
        "dataset = dataset.shuffle(buffer_size=1024).batch(256)\n",
        "\n",
        "for epoch in range(10):\n",
        "  for step, (x, y) in enumerate(dataset):\n",
        "    loss = train_on_batch(x, y)\n",
        "  print('Epoch %d: last batch loss = %.4f' % (epoch, float(loss)))"
      ],
      "execution_count": null,
      "outputs": [
        {
          "output_type": "stream",
          "text": [
            "Epoch 0: last batch loss = 0.0812\n",
            "Epoch 1: last batch loss = 0.0617\n",
            "Epoch 2: last batch loss = 0.0327\n",
            "Epoch 3: last batch loss = 0.0333\n",
            "Epoch 4: last batch loss = 0.0253\n",
            "Epoch 5: last batch loss = 0.0268\n",
            "Epoch 6: last batch loss = 0.0239\n",
            "Epoch 7: last batch loss = 0.0137\n",
            "Epoch 8: last batch loss = 0.0258\n",
            "Epoch 9: last batch loss = 0.0262\n"
          ],
          "name": "stdout"
        }
      ]
    },
    {
      "cell_type": "markdown",
      "metadata": {
        "id": "inUpc6eCdzG4",
        "colab_type": "text"
      },
      "source": [
        "## Compute Predictions and Plot"
      ]
    },
    {
      "cell_type": "code",
      "metadata": {
        "id": "dYWB7eK-4T2N",
        "colab_type": "code",
        "colab": {
          "base_uri": "https://localhost:8080/",
          "height": 282
        },
        "outputId": "bc8d1c6b-5a51-4ab0-ae59-4ab2f6bba89d"
      },
      "source": [
        "predictions = compute_predictions(features)\n",
        "plt.scatter(features[:, 0], features[:, 1], c=predictions[:, 0] > 0.5)"
      ],
      "execution_count": null,
      "outputs": [
        {
          "output_type": "execute_result",
          "data": {
            "text/plain": [
              "<matplotlib.collections.PathCollection at 0x7f9b20e3b630>"
            ]
          },
          "metadata": {
            "tags": []
          },
          "execution_count": 110
        },
        {
          "output_type": "display_data",
          "data": {
            "image/png": "[encoded data removed]",
            "text/plain": [
              "<Figure size 432x288 with 1 Axes>"
            ]
          },
          "metadata": {
            "tags": [],
            "needs_background": "light"
          }
        }
      ]
    },
    {
      "cell_type": "markdown",
      "metadata": {
        "id": "QxrsciEad6xH",
        "colab_type": "text"
      },
      "source": [
        "# Logistic Regression on MNIST Dataset"
      ]
    },
    {
      "cell_type": "markdown",
      "metadata": {
        "id": "JlZzw6YId-sV",
        "colab_type": "text"
      },
      "source": [
        "## Set Parameters"
      ]
    },
    {
      "cell_type": "code",
      "metadata": {
        "id": "YqO5RbklL6KZ",
        "colab_type": "code",
        "colab": {}
      },
      "source": [
        "num_classes = 10\n",
        "num_features = 784\n",
        "learning_rate = 0.01\n",
        "training_steps = 1000\n",
        "batch_size = 256\n",
        "display_step = 50"
      ],
      "execution_count": null,
      "outputs": []
    },
    {
      "cell_type": "markdown",
      "metadata": {
        "id": "Az2tWu9weBIY",
        "colab_type": "text"
      },
      "source": [
        "## Load MNIST Dataset, Split into train and test"
      ]
    },
    {
      "cell_type": "code",
      "metadata": {
        "id": "NfFi9WPVLeuu",
        "colab_type": "code",
        "colab": {}
      },
      "source": [
        "(x_train, y_train), (x_test, y_test) = mnist.load_data()"
      ],
      "execution_count": null,
      "outputs": []
    },
    {
      "cell_type": "markdown",
      "metadata": {
        "id": "PHutCqjzeKP-",
        "colab_type": "text"
      },
      "source": [
        "## Convert to float, Flatten images to 1-D vector of 784 features (28*28) and Normalize the data"
      ]
    },
    {
      "cell_type": "code",
      "metadata": {
        "id": "76KxY49DLr57",
        "colab_type": "code",
        "colab": {}
      },
      "source": [
        "x_train, x_test = np.array(x_train, np.float32), np.array(x_test, np.float32)\n",
        "x_train, x_test = x_train.reshape([-1, num_features]), x_test.reshape([-1, num_features])\n",
        "x_train, x_test = x_train / 255., x_test / 255."
      ],
      "execution_count": null,
      "outputs": []
    },
    {
      "cell_type": "markdown",
      "metadata": {
        "id": "eAAm6vKaevow",
        "colab_type": "text"
      },
      "source": [
        "## Shuffling and Batching the Data"
      ]
    },
    {
      "cell_type": "code",
      "metadata": {
        "id": "9DdbWs3BLvze",
        "colab_type": "code",
        "colab": {}
      },
      "source": [
        "train_data=tf.data.Dataset.from_tensor_slices((x_train,y_train))\n",
        "train_data=train_data.repeat().shuffle(5000).batch(batch_size).prefetch(1)"
      ],
      "execution_count": null,
      "outputs": []
    },
    {
      "cell_type": "markdown",
      "metadata": {
        "id": "xhefd7qje1_S",
        "colab_type": "text"
      },
      "source": [
        "## Weights and Bias"
      ]
    },
    {
      "cell_type": "code",
      "metadata": {
        "id": "ycb4q8_7MD3d",
        "colab_type": "code",
        "colab": {}
      },
      "source": [
        "W = tf.Variable(tf.ones([num_features, num_classes]), name=\"weight\")\n",
        "b = tf.Variable(tf.zeros([num_classes]), name=\"bias\")"
      ],
      "execution_count": null,
      "outputs": []
    },
    {
      "cell_type": "markdown",
      "metadata": {
        "id": "EI1rj205e7gI",
        "colab_type": "text"
      },
      "source": [
        "## Defining functions for logistic regression and cost"
      ]
    },
    {
      "cell_type": "code",
      "metadata": {
        "id": "5DrxGzQeMEXz",
        "colab_type": "code",
        "colab": {}
      },
      "source": [
        "def logistic_regression(x):\n",
        "    return tf.nn.softmax(tf.matmul(x, W) + b)\n",
        "\n",
        "def cross_entropy(y_pred, y_true):\n",
        "    y_true = tf.one_hot(y_true, depth=num_classes)\n",
        "    y_pred = tf.clip_by_value(y_pred, 1e-9, 1.)\n",
        "    return tf.reduce_mean(-tf.reduce_sum(y_true * tf.math.log(y_pred)))"
      ],
      "execution_count": null,
      "outputs": []
    },
    {
      "cell_type": "markdown",
      "metadata": {
        "id": "U4PHUTi-fDle",
        "colab_type": "text"
      },
      "source": [
        "## Optimizers and accuracy metrics"
      ]
    },
    {
      "cell_type": "code",
      "metadata": {
        "id": "1Cv2weJ9MHtZ",
        "colab_type": "code",
        "colab": {}
      },
      "source": [
        "def accuracy(y_pred, y_true):\n",
        "  correct_prediction = tf.equal(tf.argmax(y_pred, 1), tf.cast(y_true, tf.int64))\n",
        "  return tf.reduce_mean(tf.cast(correct_prediction, tf.float32))\n",
        "\n",
        "optimizer = tf.optimizers.SGD(learning_rate)"
      ],
      "execution_count": null,
      "outputs": []
    },
    {
      "cell_type": "markdown",
      "metadata": {
        "id": "X3cq0M-EfJQW",
        "colab_type": "text"
      },
      "source": [
        "## Wrap computation inside a GradientTape for automatic differentiation. Compute gradients and Update W and b following gradients."
      ]
    },
    {
      "cell_type": "code",
      "metadata": {
        "id": "NLzvtHNKMKcB",
        "colab_type": "code",
        "colab": {}
      },
      "source": [
        "def run_optimization(x, y):\n",
        "  with tf.GradientTape() as g:\n",
        "        pred = logistic_regression(x)\n",
        "        loss = cross_entropy(pred, y)\n",
        "  gradients = g.gradient(loss, [W, b])\n",
        "  optimizer.apply_gradients(zip(gradients, [W, b]))"
      ],
      "execution_count": null,
      "outputs": []
    },
    {
      "cell_type": "markdown",
      "metadata": {
        "id": "aKv4su5DfXwm",
        "colab_type": "text"
      },
      "source": [
        "## Training the model"
      ]
    },
    {
      "cell_type": "code",
      "metadata": {
        "id": "Gr8yB7OQMSbH",
        "colab_type": "code",
        "colab": {
          "base_uri": "https://localhost:8080/",
          "height": 357
        },
        "outputId": "d82a0726-4af6-412d-b88d-87255fe434c6"
      },
      "source": [
        "for step, (batch_x, batch_y) in enumerate(train_data.take(training_steps), 1):\n",
        "    run_optimization(batch_x, batch_y)\n",
        "    if step % display_step == 0:\n",
        "        pred = logistic_regression(batch_x)\n",
        "        loss = cross_entropy(pred, batch_y)\n",
        "        acc = accuracy(pred, batch_y)\n",
        "        print(\"step: %i, loss: %f, accuracy: %f\" % (step, loss, acc))"
      ],
      "execution_count": null,
      "outputs": [
        {
          "output_type": "stream",
          "text": [
            "step: 50, loss: 433.910736, accuracy: 0.777344\n",
            "step: 100, loss: 105.122772, accuracy: 0.894531\n",
            "step: 150, loss: 179.242111, accuracy: 0.859375\n",
            "step: 200, loss: 128.324173, accuracy: 0.863281\n",
            "step: 250, loss: 66.898018, accuracy: 0.910156\n",
            "step: 300, loss: 47.693451, accuracy: 0.945312\n",
            "step: 350, loss: 119.721069, accuracy: 0.867188\n",
            "step: 400, loss: 83.206490, accuracy: 0.917969\n",
            "step: 450, loss: 40.093369, accuracy: 0.957031\n",
            "step: 500, loss: 214.239548, accuracy: 0.812500\n",
            "step: 550, loss: 62.796047, accuracy: 0.933594\n",
            "step: 600, loss: 106.374222, accuracy: 0.878906\n",
            "step: 650, loss: 69.215897, accuracy: 0.894531\n",
            "step: 700, loss: 55.689941, accuracy: 0.945312\n",
            "step: 750, loss: 81.803696, accuracy: 0.914062\n",
            "step: 800, loss: 85.138191, accuracy: 0.914062\n",
            "step: 850, loss: 64.923752, accuracy: 0.949219\n",
            "step: 900, loss: 87.696701, accuracy: 0.902344\n",
            "step: 950, loss: 48.898518, accuracy: 0.941406\n",
            "step: 1000, loss: 81.767578, accuracy: 0.910156\n"
          ],
          "name": "stdout"
        }
      ]
    },
    {
      "cell_type": "markdown",
      "metadata": {
        "id": "vLyfZvOUfZ8U",
        "colab_type": "text"
      },
      "source": [
        "## Testing the model"
      ]
    },
    {
      "cell_type": "code",
      "metadata": {
        "id": "KSOo9H4FMVk2",
        "colab_type": "code",
        "colab": {
          "base_uri": "https://localhost:8080/",
          "height": 34
        },
        "outputId": "4c7e53ea-5d1c-400b-b7f5-ad7261b1dec2"
      },
      "source": [
        "pred = logistic_regression(x_test)\n",
        "print(\"Test Accuracy: %f\" % accuracy(pred, y_test))"
      ],
      "execution_count": null,
      "outputs": [
        {
          "output_type": "stream",
          "text": [
            "Test Accuracy: 0.886100\n"
          ],
          "name": "stdout"
        }
      ]
    }
  ]
}